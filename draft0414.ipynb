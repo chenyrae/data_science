{
 "cells": [
  {
   "cell_type": "markdown",
   "id": "9da2002c-d9cf-4b55-9b11-ff05cf5faf34",
   "metadata": {},
   "source": [
    "Introduction\n"
   ]
  },
  {
   "cell_type": "markdown",
   "id": "b4a74f3a-8be0-4d31-97d2-5a1c271040f7",
   "metadata": {},
   "source": [
    "Literature Review"
   ]
  },
  {
   "cell_type": "markdown",
   "id": "810bdca0-db67-4e4e-a392-49fa087c1e4b",
   "metadata": {},
   "source": [
    "Research Question"
   ]
  },
  {
   "cell_type": "markdown",
   "id": "2ee9f086-8c57-4261-9cdf-4b32267b10d7",
   "metadata": {},
   "source": [
    "Presentation of data"
   ]
  },
  {
   "cell_type": "markdown",
   "id": "3b54558f-b36a-4dcd-bdde-655d8d1824a8",
   "metadata": {},
   "source": [
    "Methodology"
   ]
  },
  {
   "cell_type": "markdown",
   "id": "1709e53d-eb0f-4ba1-8f36-b346ebd755a7",
   "metadata": {},
   "source": [
    "Results"
   ]
  },
  {
   "cell_type": "markdown",
   "id": "0a1fb4cd-5107-4749-9a99-39ab279fb179",
   "metadata": {},
   "source": [
    "Discussion"
   ]
  },
  {
   "cell_type": "markdown",
   "id": "e676399e-41a9-425e-bb85-91f2ed34c865",
   "metadata": {},
   "source": [
    "Conclusion"
   ]
  },
  {
   "cell_type": "code",
   "execution_count": null,
   "id": "75dd117e-8dc8-4321-9ccd-c549e0ca95cb",
   "metadata": {},
   "outputs": [],
   "source": []
  }
 ],
 "metadata": {
  "kernelspec": {
   "display_name": "Python 3 (ipykernel)",
   "language": "python",
   "name": "python3"
  },
  "language_info": {
   "codemirror_mode": {
    "name": "ipython",
    "version": 3
   },
   "file_extension": ".py",
   "mimetype": "text/x-python",
   "name": "python",
   "nbconvert_exporter": "python",
   "pygments_lexer": "ipython3",
   "version": "3.10.5"
  }
 },
 "nbformat": 4,
 "nbformat_minor": 5
}
